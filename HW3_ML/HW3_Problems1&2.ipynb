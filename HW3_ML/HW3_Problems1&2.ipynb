{
  "nbformat": 4,
  "nbformat_minor": 0,
  "metadata": {
    "colab": {
      "name": "HW3_Problems.ipynb",
      "provenance": [],
      "toc_visible": true
    },
    "kernelspec": {
      "name": "python3",
      "display_name": "Python 3"
    },
    "language_info": {
      "name": "python"
    }
  },
  "cells": [
    {
      "cell_type": "markdown",
      "metadata": {
        "id": "L8emNTBUW1S-"
      },
      "source": [
        "# Problem 1"
      ]
    },
    {
      "cell_type": "code",
      "metadata": {
        "colab": {
          "base_uri": "https://localhost:8080/"
        },
        "id": "YwapkUklZP6s",
        "outputId": "4d8e3b68-0a31-4342-e0e0-54e5eb167575"
      },
      "source": [
        "#@title Linear Kernel with C=0.001\n",
        "from sklearn import svm\n",
        "import pandas as pd\n",
        "from sklearn.model_selection import cross_val_score\n",
        "from sklearn.preprocessing import StandardScaler\n",
        "from sklearn.metrics import accuracy_score\n",
        "from sklearn.metrics import f1_score\n",
        "\n",
        "df = pd.read_excel('LSVT_voice_rehabilitation.xlsx', sheet_name='Data')\n",
        "df = df.to_numpy()\n",
        "X = df[:,:]\n",
        "scaler = StandardScaler()\n",
        "scaler.fit(X)\n",
        "X = scaler.transform(X)\n",
        "y = pd.read_excel('LSVT_voice_rehabilitation.xlsx', sheet_name='Binary response')\n",
        "y = y.to_numpy()\n",
        "y = y.ravel()\n",
        "\n",
        "clf = svm.SVC(kernel='linear', C=0.001, random_state=0, max_iter=10e8)\n",
        "acc = cross_val_score(clf, X, y, cv=10)\n",
        "f1 = cross_val_score(clf, X, y, scoring='f1_macro', cv=10)\n",
        "print(\"accuracy : \",acc)\n",
        "print(\"f1_measure is : \",f1)"
      ],
      "execution_count": 3,
      "outputs": [
        {
          "output_type": "stream",
          "text": [
            "accuracy is :  [0.69230769 0.61538462 0.76923077 0.69230769 0.69230769 0.69230769\n",
            " 0.75       1.         0.83333333 0.91666667]\n",
            "f1_measure is :  [0.33333333 0.         0.4        0.         0.         0.\n",
            " 0.4        1.         0.66666667 0.85714286]\n"
          ],
          "name": "stdout"
        }
      ]
    },
    {
      "cell_type": "code",
      "metadata": {
        "colab": {
          "base_uri": "https://localhost:8080/"
        },
        "id": "796mzDKqdd0v",
        "outputId": "1fb26e72-ab3a-4281-9199-829152126445"
      },
      "source": [
        "#@title Linear Kernel with C=1\n",
        "from sklearn import svm\n",
        "import pandas as pd\n",
        "from sklearn.model_selection import cross_validate\n",
        "from sklearn.preprocessing import StandardScaler\n",
        "\n",
        "df = pd.read_excel('LSVT_voice_rehabilitation.xlsx', sheet_name='Data')\n",
        "df = df.to_numpy()\n",
        "X = df[:,:]\n",
        "scaler = StandardScaler()\n",
        "scaler.fit(X)\n",
        "X = scaler.transform(X)\n",
        "y = pd.read_excel('LSVT_voice_rehabilitation.xlsx', sheet_name='Binary response')\n",
        "y = y.to_numpy()\n",
        "y = y.ravel()\n",
        "from sklearn.model_selection import cross_validate\n",
        "from sklearn.metrics import recall_score\n",
        "\n",
        "clf = svm.SVC(kernel='linear', C=1.0, random_state=0, max_iter=10e8)\n",
        "acc = cross_val_score(clf, X, y, cv=10)\n",
        "f1 = cross_val_score(clf, X, y, scoring='f1_macro', cv=10)\n",
        "print(\"accuracy : \",acc)\n",
        "print(\"f1_measure is : \",f1)"
      ],
      "execution_count": 32,
      "outputs": [
        {
          "output_type": "stream",
          "text": [
            "accuracy :  [0.92307692 0.92307692 0.76923077 0.76923077 0.76923077 0.61538462\n",
            " 1.         0.83333333 0.75       0.66666667]\n",
            "f1_measure is :  [0.92121212 0.92121212 0.74509804 0.62857143 0.74509804 0.5112782\n",
            " 1.         0.82857143 0.73333333 0.65714286]\n"
          ],
          "name": "stdout"
        }
      ]
    },
    {
      "cell_type": "code",
      "metadata": {
        "colab": {
          "base_uri": "https://localhost:8080/"
        },
        "id": "b_HipUgaW97U",
        "outputId": "b5bcdbac-e607-4249-a9be-d4369a9e2c89"
      },
      "source": [
        "#@title Linear Kernel with C=1\n",
        "from sklearn import svm\n",
        "import pandas as pd\n",
        "from sklearn.model_selection import cross_validate\n",
        "from sklearn.preprocessing import StandardScaler\n",
        "\n",
        "df = pd.read_excel('LSVT_voice_rehabilitation.xlsx', sheet_name='Data')\n",
        "df = df.to_numpy()\n",
        "X = df[:,:]\n",
        "scaler = StandardScaler()\n",
        "scaler.fit(X)\n",
        "X = scaler.transform(X)\n",
        "y = pd.read_excel('LSVT_voice_rehabilitation.xlsx', sheet_name='Binary response')\n",
        "y = y.to_numpy()\n",
        "y = y.ravel()\n",
        "from sklearn.model_selection import cross_validate\n",
        "from sklearn.metrics import recall_score\n",
        "\n",
        "clf = svm.SVC(kernel='linear', C=20.0, random_state=0, max_iter=10e8)\n",
        "acc = cross_val_score(clf, X, y, cv=10)\n",
        "f1 = cross_val_score(clf, X, y, scoring='f1_macro', cv=10)\n",
        "print(\"accuracy : \",acc)\n",
        "print(\"f1_measure is : \",f1)"
      ],
      "execution_count": 31,
      "outputs": [
        {
          "output_type": "stream",
          "text": [
            "accuracy :  [0.92307692 0.92307692 0.76923077 0.76923077 0.76923077 0.61538462\n",
            " 1.         0.83333333 0.75       0.66666667]\n",
            "f1_measure is :  [0.92121212 0.92121212 0.74509804 0.62857143 0.74509804 0.5112782\n",
            " 1.         0.82857143 0.73333333 0.65714286]\n"
          ],
          "name": "stdout"
        }
      ]
    },
    {
      "cell_type": "markdown",
      "metadata": {
        "id": "w1oU6j0lO_WN"
      },
      "source": [
        "In the previous section, we selected different values for the parameter C, and according to the result, it can be seen that the parameter C is more appropriate with a value of 20, and in other words, it performs the regularization better."
      ]
    },
    {
      "cell_type": "code",
      "metadata": {
        "colab": {
          "base_uri": "https://localhost:8080/"
        },
        "id": "mwT7hJPHf5FO",
        "outputId": "b8b634ec-0246-4562-c5b4-8e25baa7c3bc"
      },
      "source": [
        "#@title Polynomial Kernel With C=20 and degree=2\n",
        "from sklearn import svm\n",
        "import pandas as pd\n",
        "from sklearn.model_selection import cross_validate\n",
        "from sklearn.preprocessing import StandardScaler\n",
        "from sklearn.model_selection import cross_validate\n",
        "from sklearn.metrics import recall_score\n",
        "\n",
        "df = pd.read_excel('LSVT_voice_rehabilitation.xlsx', sheet_name='Data')\n",
        "df = df.to_numpy()\n",
        "X = df[:,:]\n",
        "scaler = StandardScaler()\n",
        "scaler.fit(X)\n",
        "X = scaler.transform(X)\n",
        "y = pd.read_excel('LSVT_voice_rehabilitation.xlsx', sheet_name='Binary response')\n",
        "y = y.to_numpy()\n",
        "y = y.ravel()\n",
        "\n",
        "clf = svm.SVC(kernel='poly', C=20, random_state=0, max_iter=10e8, degree=2)\n",
        "acc = cross_val_score(clf, X, y, cv=10)\n",
        "f1 = cross_val_score(clf, X, y, scoring='f1_macro', cv=10)\n",
        "print(\"accuracy : \",acc)\n",
        "print(acc.mean())\n",
        "print(\"f1_measure is : \",f1)\n",
        "print(f1.mean())"
      ],
      "execution_count": 34,
      "outputs": [
        {
          "output_type": "stream",
          "text": [
            "accuracy :  [0.76923077 0.61538462 0.84615385 0.61538462 0.53846154 0.46153846\n",
            " 0.75       1.         0.91666667 0.83333333]\n",
            "0.7346153846153847\n",
            "f1_measure is :  [0.74509804 0.61538462 0.81944444 0.5112782  0.35       0.31578947\n",
            " 0.69747899 1.         0.91111111 0.82857143]\n",
            "0.6794156299496856\n"
          ],
          "name": "stdout"
        }
      ]
    },
    {
      "cell_type": "markdown",
      "metadata": {
        "id": "8YlmkSR_0CgI"
      },
      "source": [
        ""
      ]
    },
    {
      "cell_type": "code",
      "metadata": {
        "colab": {
          "base_uri": "https://localhost:8080/"
        },
        "id": "xa2DwguVam9b",
        "outputId": "4a640cd7-7695-42c3-b406-e054764f3aa1"
      },
      "source": [
        "#@title Polynomial Kernel With C=20 and degree=3\n",
        "from sklearn import svm\n",
        "import pandas as pd\n",
        "from sklearn.model_selection import cross_validate\n",
        "from sklearn.preprocessing import StandardScaler\n",
        "from sklearn.model_selection import cross_validate\n",
        "from sklearn.metrics import recall_score\n",
        "from sklearn.metrics import f1_score\n",
        "\n",
        "df = pd.read_excel('LSVT_voice_rehabilitation.xlsx', sheet_name='Data')\n",
        "df = df.to_numpy()\n",
        "X = df[:,:]\n",
        "scaler = StandardScaler()\n",
        "scaler.fit(X)\n",
        "X = scaler.transform(X)\n",
        "y = pd.read_excel('LSVT_voice_rehabilitation.xlsx', sheet_name='Binary response')\n",
        "y = y.to_numpy()\n",
        "y = y.ravel()\n",
        "\n",
        "clf = svm.SVC(kernel='poly', C=20, random_state=0, max_iter=10e8, degree=3)\n",
        "acc = cross_val_score(clf, X, y, cv=10)\n",
        "f1 = cross_val_score(clf, X, y, scoring='f1_macro', cv=10)\n",
        "print(\"accuracy : \",acc)\n",
        "print(acc.mean())\n",
        "print(\"f1_measure is : \",f1)\n",
        "print(f1.mean())"
      ],
      "execution_count": 36,
      "outputs": [
        {
          "output_type": "stream",
          "text": [
            "accuracy :  [0.76923077 0.76923077 0.76923077 0.69230769 0.69230769 0.76923077\n",
            " 0.75       0.91666667 0.91666667 1.        ]\n",
            "0.8044871794871795\n",
            "f1_measure is :  [0.70676692 0.70676692 0.62857143 0.40909091 0.56666667 0.62857143\n",
            " 0.62105263 0.89915966 0.89915966 1.        ]\n",
            "0.7065806226796939\n"
          ],
          "name": "stdout"
        }
      ]
    },
    {
      "cell_type": "code",
      "metadata": {
        "colab": {
          "base_uri": "https://localhost:8080/"
        },
        "id": "eRE1SttA0OgC",
        "outputId": "d54777eb-80d4-4d57-925c-a71326423010"
      },
      "source": [
        "#@title Polynomial Kernel With C=20 and degree=5\n",
        "from sklearn import svm\n",
        "import pandas as pd\n",
        "from sklearn.model_selection import cross_validate\n",
        "from sklearn.preprocessing import StandardScaler\n",
        "from sklearn.model_selection import cross_validate\n",
        "from sklearn.metrics import recall_score\n",
        "\n",
        "df = pd.read_excel('LSVT_voice_rehabilitation.xlsx', sheet_name='Data')\n",
        "df = df.to_numpy()\n",
        "X = df[:,:]\n",
        "scaler = StandardScaler()\n",
        "scaler.fit(X)\n",
        "X = scaler.transform(X)\n",
        "y = pd.read_excel('LSVT_voice_rehabilitation.xlsx', sheet_name='Binary response')\n",
        "y = y.to_numpy()\n",
        "y = y.ravel()\n",
        "\n",
        "clf = svm.SVC(kernel='poly', C=20, random_state=0, max_iter=10e8, degree=5)\n",
        "acc = cross_val_score(clf, X, y, cv=10)\n",
        "f1 = cross_val_score(clf, X, y, scoring='f1_macro', cv=10)\n",
        "print(\"accuracy : \",acc)\n",
        "print(acc.mean())\n",
        "print(\"f1_measure is : \",f1)\n",
        "print(f1.mean())"
      ],
      "execution_count": 39,
      "outputs": [
        {
          "output_type": "stream",
          "text": [
            "accuracy :  [0.69230769 0.61538462 0.69230769 0.69230769 0.61538462 0.76923077\n",
            " 0.75       0.75       0.75       0.75      ]\n",
            "0.7076923076923076\n",
            "f1_measure is :  [0.56666667 0.38095238 0.40909091 0.40909091 0.38095238 0.62857143\n",
            " 0.62105263 0.62105263 0.62105263 0.62105263]\n",
            "0.5259535201640464\n"
          ],
          "name": "stdout"
        }
      ]
    },
    {
      "cell_type": "markdown",
      "metadata": {
        "id": "nzKIsccvZN9o"
      },
      "source": [
        "In the previous section, we selected different values for the degree of the model, and according to the result, it can be seen that the model with a degree of 3 has a higher accuracy."
      ]
    },
    {
      "cell_type": "markdown",
      "metadata": {
        "id": "Za2Huvk4cTlc"
      },
      "source": [
        "in this part we choose different gamma for rbf kernel.\n",
        "if gamma='scale' (default) is passed then it uses 1 / (n_features * X.var()) as value of gamma,\n",
        "\n",
        "if ‘auto’, uses 1 / n_features.\n"
      ]
    },
    {
      "cell_type": "code",
      "metadata": {
        "colab": {
          "base_uri": "https://localhost:8080/"
        },
        "id": "AvRapBrFcBZv",
        "outputId": "d652094b-f414-4cd2-8230-4d0307ab7735"
      },
      "source": [
        "#@title RBF Kernel With C=20 and gamma = scale\n",
        "from sklearn import svm\n",
        "import pandas as pd\n",
        "from sklearn.model_selection import cross_validate\n",
        "from sklearn.preprocessing import StandardScaler\n",
        "from sklearn.model_selection import cross_validate\n",
        "from sklearn.metrics import recall_score\n",
        "\n",
        "df = pd.read_excel('LSVT_voice_rehabilitation.xlsx', sheet_name='Data')\n",
        "df = df.to_numpy()\n",
        "X = df[:,:]\n",
        "scaler = StandardScaler()\n",
        "scaler.fit(X)\n",
        "X = scaler.transform(X)\n",
        "y = pd.read_excel('LSVT_voice_rehabilitation.xlsx', sheet_name='Binary response')\n",
        "y = y.to_numpy()\n",
        "y = y.ravel()\n",
        "\n",
        "clf = svm.SVC(kernel='rbf', C=20, random_state=0, max_iter=10e8)\n",
        "acc = cross_val_score(clf, X, y, cv=10)\n",
        "f1 = cross_val_score(clf, X, y, scoring='f1_macro', cv=10)\n",
        "print(\"accuracy : \",acc)\n",
        "print(acc.mean())\n",
        "print(\"f1_measure is : \",f1)\n",
        "print(f1.mean())"
      ],
      "execution_count": 43,
      "outputs": [
        {
          "output_type": "stream",
          "text": [
            "accuracy :  [0.92307692 0.92307692 0.76923077 0.84615385 0.69230769 0.76923077\n",
            " 1.         0.83333333 0.91666667 0.75      ]\n",
            "0.8423076923076923\n",
            "f1_measure is :  [0.92121212 0.92121212 0.74509804 0.78333333 0.63888889 0.62857143\n",
            " 1.         0.82857143 0.91111111 0.73333333]\n",
            "0.8111331805449451\n"
          ],
          "name": "stdout"
        }
      ]
    },
    {
      "cell_type": "code",
      "metadata": {
        "colab": {
          "base_uri": "https://localhost:8080/"
        },
        "id": "cpkK5KSpchP5",
        "outputId": "d942a4ef-2609-4e3c-a1eb-b42aecc61ac3"
      },
      "source": [
        "#@title RBF Kernel With C=20 and gamma = auto\n",
        "from sklearn import svm\n",
        "import pandas as pd\n",
        "from sklearn.model_selection import cross_validate\n",
        "from sklearn.preprocessing import StandardScaler\n",
        "from sklearn.model_selection import cross_validate\n",
        "from sklearn.metrics import recall_score\n",
        "\n",
        "df = pd.read_excel('LSVT_voice_rehabilitation.xlsx', sheet_name='Data')\n",
        "df = df.to_numpy()\n",
        "X = df[:,:]\n",
        "scaler = StandardScaler()\n",
        "scaler.fit(X)\n",
        "X = scaler.transform(X)\n",
        "y = pd.read_excel('LSVT_voice_rehabilitation.xlsx', sheet_name='Binary response')\n",
        "y = y.to_numpy()\n",
        "y = y.ravel()\n",
        "\n",
        "clf = svm.SVC(kernel='rbf', C=20, random_state=0, max_iter=10e8, gamma='auto')\n",
        "acc = cross_val_score(clf, X, y, cv=10)\n",
        "f1 = cross_val_score(clf, X, y, scoring='f1_macro', cv=10)\n",
        "print(\"accuracy : \",acc)\n",
        "print(acc.mean())\n",
        "print(\"f1_measure is : \",f1)\n",
        "print(f1.mean())"
      ],
      "execution_count": 66,
      "outputs": [
        {
          "output_type": "stream",
          "text": [
            "accuracy :  [0.92307692 0.92307692 0.76923077 0.84615385 0.69230769 0.76923077\n",
            " 1.         0.83333333 0.91666667 0.75      ]\n",
            "0.8423076923076923\n",
            "f1_measure is :  [0.92121212 0.92121212 0.74509804 0.78333333 0.63888889 0.62857143\n",
            " 1.         0.82857143 0.91111111 0.73333333]\n",
            "0.8111331805449451\n"
          ],
          "name": "stdout"
        }
      ]
    },
    {
      "cell_type": "code",
      "metadata": {
        "colab": {
          "base_uri": "https://localhost:8080/"
        },
        "id": "E2npAX7deyfZ",
        "outputId": "46b14925-c7b7-49a9-8f4b-c6daa69f52d0"
      },
      "source": [
        "#@title RBF Kernel With C=15 and gamma = scale\n",
        "from sklearn import svm\n",
        "import pandas as pd\n",
        "from sklearn.model_selection import cross_validate\n",
        "from sklearn.preprocessing import StandardScaler\n",
        "from sklearn.model_selection import cross_validate\n",
        "from sklearn.metrics import recall_score\n",
        "\n",
        "df = pd.read_excel('LSVT_voice_rehabilitation.xlsx', sheet_name='Data')\n",
        "df = df.to_numpy()\n",
        "X = df[:,:]\n",
        "scaler = StandardScaler()\n",
        "scaler.fit(X)\n",
        "X = scaler.transform(X)\n",
        "y = pd.read_excel('LSVT_voice_rehabilitation.xlsx', sheet_name='Binary response')\n",
        "y = y.to_numpy()\n",
        "y = y.ravel()\n",
        "\n",
        "clf = svm.SVC(kernel='rbf', C=15, random_state=0, max_iter=10e8)\n",
        "acc = cross_val_score(clf, X, y, cv=10)\n",
        "f1 = cross_val_score(clf, X, y, scoring='f1_macro', cv=10)\n",
        "print(\"accuracy : \",acc)\n",
        "print(acc.mean())\n",
        "print(\"f1_measure is : \",f1)\n",
        "print(f1.mean())"
      ],
      "execution_count": 72,
      "outputs": [
        {
          "output_type": "stream",
          "text": [
            "accuracy :  [0.92307692 0.92307692 0.76923077 0.84615385 0.69230769 0.76923077\n",
            " 1.         0.83333333 0.91666667 0.75      ]\n",
            "0.8423076923076923\n",
            "f1_measure is :  [0.92121212 0.92121212 0.74509804 0.78333333 0.63888889 0.62857143\n",
            " 1.         0.82857143 0.91111111 0.73333333]\n",
            "0.8111331805449451\n"
          ],
          "name": "stdout"
        }
      ]
    },
    {
      "cell_type": "markdown",
      "metadata": {
        "id": "mB0JOwoOfrtA"
      },
      "source": [
        ""
      ]
    },
    {
      "cell_type": "code",
      "metadata": {
        "colab": {
          "base_uri": "https://localhost:8080/"
        },
        "id": "NBrJYY1xcpdI",
        "outputId": "43194f9d-b7ad-4f80-a4ea-b6271f98b95d"
      },
      "source": [
        "#@title sigmoid Kernel With C=20\n",
        "from sklearn import svm\n",
        "import pandas as pd\n",
        "from sklearn.model_selection import cross_validate\n",
        "from sklearn.preprocessing import StandardScaler\n",
        "from sklearn.model_selection import cross_validate\n",
        "from sklearn.metrics import recall_score\n",
        "\n",
        "df = pd.read_excel('LSVT_voice_rehabilitation.xlsx', sheet_name='Data')\n",
        "df = df.to_numpy()\n",
        "X = df[:,:]\n",
        "scaler = StandardScaler()\n",
        "scaler.fit(X)\n",
        "X = scaler.transform(X)\n",
        "y = pd.read_excel('LSVT_voice_rehabilitation.xlsx', sheet_name='Binary response')\n",
        "y = y.to_numpy()\n",
        "y = y.ravel()\n",
        "\n",
        "clf = svm.SVC(kernel='sigmoid', C=20, random_state=0, max_iter=10e8)\n",
        "acc = cross_val_score(clf, X, y, cv=10)\n",
        "f1 = cross_val_score(clf, X, y, scoring='f1_macro', cv=10)\n",
        "print(\"accuracy : \",acc)\n",
        "print(acc.mean())\n",
        "print(\"f1_measure is : \",f1)\n",
        "print(f1.mean())"
      ],
      "execution_count": 53,
      "outputs": [
        {
          "output_type": "stream",
          "text": [
            "accuracy :  [1.         0.76923077 0.69230769 0.84615385 0.84615385 0.61538462\n",
            " 1.         0.75       0.66666667 0.83333333]\n",
            "0.801923076923077\n",
            "f1_measure is :  [1.         0.76923077 0.63888889 0.78333333 0.78333333 0.5112782\n",
            " 1.         0.73333333 0.66666667 0.8125    ]\n",
            "0.7698564520275046\n"
          ],
          "name": "stdout"
        }
      ]
    },
    {
      "cell_type": "markdown",
      "metadata": {
        "id": "yK18jVHPkoSa"
      },
      "source": [
        "# Best Model"
      ]
    },
    {
      "cell_type": "code",
      "metadata": {
        "colab": {
          "base_uri": "https://localhost:8080/"
        },
        "id": "99OUcMieanFG",
        "outputId": "9f9142f7-9b64-4ad2-b100-8865aab46f04"
      },
      "source": [
        "#@title sigmoid Kernel With C=10\n",
        "from sklearn import svm\n",
        "import pandas as pd\n",
        "from sklearn.model_selection import cross_validate\n",
        "from sklearn.preprocessing import StandardScaler\n",
        "from sklearn.model_selection import cross_validate\n",
        "from sklearn.metrics import recall_score\n",
        "\n",
        "df = pd.read_excel('LSVT_voice_rehabilitation.xlsx', sheet_name='Data')\n",
        "df = df.to_numpy()\n",
        "X = df[:,:]\n",
        "scaler = StandardScaler()\n",
        "scaler.fit(X)\n",
        "X = scaler.transform(X)\n",
        "y = pd.read_excel('LSVT_voice_rehabilitation.xlsx', sheet_name='Binary response')\n",
        "y = y.to_numpy()\n",
        "y = y.ravel()\n",
        "\n",
        "clf = svm.SVC(kernel='sigmoid', C=10, random_state=0, max_iter=10e8)\n",
        "acc = cross_val_score(clf, X, y, cv=15)\n",
        "f1 = cross_val_score(clf, X, y, scoring='f1_macro', cv=10)\n",
        "print(\"accuracy : \",acc)\n",
        "print(acc.mean())\n",
        "print(\"f1_measure is : \",f1)\n",
        "print(f1.mean())"
      ],
      "execution_count": 56,
      "outputs": [
        {
          "output_type": "stream",
          "text": [
            "accuracy :  [1.         1.         0.88888889 0.88888889 0.77777778 0.88888889\n",
            " 0.875      0.75       0.75       1.         1.         0.75\n",
            " 0.875      0.875      0.875     ]\n",
            "0.8796296296296297\n",
            "f1_measure is :  [1.         0.92121212 0.81944444 0.78333333 0.78333333 0.56666667\n",
            " 1.         0.82857143 0.66666667 0.8125    ]\n",
            "0.8181727994227994\n"
          ],
          "name": "stdout"
        }
      ]
    },
    {
      "cell_type": "code",
      "metadata": {
        "colab": {
          "base_uri": "https://localhost:8080/"
        },
        "id": "7GTNTVFd0iTQ",
        "outputId": "ae643bfd-8f17-4d1c-ad9c-1816569f6184"
      },
      "source": [
        "#@title sigmoid Kernel With C=15\n",
        "from sklearn import svm\n",
        "import pandas as pd\n",
        "from sklearn.preprocessing import StandardScaler\n",
        "from sklearn.model_selection import cross_validate\n",
        "from sklearn.metrics import recall_score\n",
        "\n",
        "df = pd.read_excel('LSVT_voice_rehabilitation.xlsx', sheet_name='Data')\n",
        "df = df.to_numpy()\n",
        "X = df[:,:]\n",
        "scaler = StandardScaler()\n",
        "scaler.fit(X)\n",
        "X = scaler.transform(X)\n",
        "y = pd.read_excel('LSVT_voice_rehabilitation.xlsx', sheet_name='Binary response')\n",
        "y = y.to_numpy()\n",
        "y = y.ravel()\n",
        "\n",
        "clf = svm.SVC(kernel='sigmoid', C=15, random_state=0, max_iter=10e8)\n",
        "acc = cross_val_score(clf, X, y, cv=10)\n",
        "f1 = cross_val_score(clf, X, y, scoring='f1_macro', cv=10)\n",
        "print(\"accuracy : \",acc)\n",
        "print(acc.mean())\n",
        "print(\"f1_measure is : \",f1)\n",
        "print(f1.mean())"
      ],
      "execution_count": 73,
      "outputs": [
        {
          "output_type": "stream",
          "text": [
            "accuracy :  [1.         0.92307692 0.76923077 0.84615385 0.84615385 0.69230769\n",
            " 1.         0.75       0.66666667 0.83333333]\n",
            "0.8326923076923076\n",
            "f1_measure is :  [1.         0.92121212 0.74509804 0.78333333 0.78333333 0.56666667\n",
            " 1.         0.73333333 0.66666667 0.8125    ]\n",
            "0.801214349376114\n"
          ],
          "name": "stdout"
        }
      ]
    },
    {
      "cell_type": "markdown",
      "metadata": {
        "id": "2RetxSHTgGGL"
      },
      "source": [
        "In the previous section, we selected different values for C parametr for model, and according to the result, it can be seen that the model with value of C= 10 and sigmoid kernel has a highest accuracy in all models."
      ]
    },
    {
      "cell_type": "markdown",
      "metadata": {
        "id": "t_fL53j241zZ"
      },
      "source": [
        "# Problem 2"
      ]
    },
    {
      "cell_type": "code",
      "metadata": {
        "colab": {
          "base_uri": "https://localhost:8080/"
        },
        "id": "pjU653mJ44hz",
        "outputId": "7efe4d96-8f21-4476-826c-5be03baafd3d"
      },
      "source": [
        "\n",
        "import pandas as pd\n",
        "from sklearn.ensemble import RandomForestClassifier\n",
        "from sklearn.feature_selection import SelectFromModel\n",
        "from sklearn.multioutput import MultiOutputClassifier\n",
        "from sklearn.metrics import accuracy_score, confusion_matrix, classification_report\n",
        "\n",
        "df = pd.read_csv('data_train.csv')\n",
        "X_train = df.iloc[:,:16]\n",
        "y_train = df.iloc[:,16:]\n",
        "print('Shape of train samples :', X_train.shape)\n",
        "print('Shape of train labels :', y_train.shape)\n",
        "df = pd.read_csv('data_test.csv')\n",
        "X_test = df.iloc[:,:16]\n",
        "y_test = df.iloc[:,16:]\n",
        "print('Shape of test samples :', X_test.shape)\n",
        "print('Shape of test labels :', y_test.shape)\n",
        "sel = RandomForestClassifier(n_estimators = 15, max_depth=3)\n",
        "clf = MultiOutputClassifier(sel, n_jobs=-1)\n",
        "clf.fit(X_train, y_train)\n",
        "y_pred_test = clf.predict(X_test)\n",
        "acc = accuracy_score(y_test, y_pred_test)\n",
        "cnfMatrix = confusion_matrix(y_test, y_pred_test)\n",
        "print('accuracy of this classifier is: ', acc)\n",
        "print('confusion Matrix of this classifier is: \\n', cnfMatrix)"
      ],
      "execution_count": null,
      "outputs": [
        {
          "output_type": "stream",
          "text": [
            "Shape of train samples : (7493, 16)\n",
            "Shape of train labels : (7493, 1)\n",
            "Shape of test samples : (3497, 16)\n",
            "Shape of test labels : (3497, 1)\n",
            "accuracy of this classifier is:  0.764941378324278\n",
            "confusion Matrix of this classifier is: \n",
            " [[323   3   0   0   0   0  23   3  11   0]\n",
            " [  0 215 111  33   3   0   2   0   0   0]\n",
            " [  0  12 334   6   1   0   4   7   0   0]\n",
            " [  0   6   0 325   1   0   0   4   0   0]\n",
            " [  0   1   3   1 358   0   0   0   0   1]\n",
            " [  0   1   0 105  34 162   7   0   6  20]\n",
            " [  2   0   6   3   0   0 319   6   0   0]\n",
            " [  0  15   9  15   3   1   0 297   0  24]\n",
            " [ 53   0   0   0   0  31  10  20 221   0]\n",
            " [  0 104   0  65  36   0   9   0   1 121]]\n"
          ],
          "name": "stdout"
        }
      ]
    },
    {
      "cell_type": "code",
      "metadata": {
        "colab": {
          "base_uri": "https://localhost:8080/"
        },
        "id": "CPdsKHBIz-8N",
        "outputId": "b65ca5f2-036f-4bde-c199-520760f7bb71"
      },
      "source": [
        "from sklearn.ensemble import AdaBoostClassifier\n",
        "from sklearn.tree import DecisionTreeClassifier\n",
        "\n",
        "df = pd.read_csv('data_train.csv')\n",
        "X_train = df.iloc[:,:16]\n",
        "y_train = df.iloc[:,16:]\n",
        "print('Shape of train samples :', X_train.shape)\n",
        "print('Shape of train labels :', y_train.shape)\n",
        "df = pd.read_csv('data_test.csv')\n",
        "X_test = df.iloc[:,:16]\n",
        "y_test = df.iloc[:,16:]\n",
        "print('Shape of test samples :', X_test.shape)\n",
        "print('Shape of test labels :', y_test.shape)\n",
        "\n",
        "clf = AdaBoostClassifier(DecisionTreeClassifier(max_depth=7),\n",
        "    n_estimators=10)\n",
        "clf.fit(X_train, y_train)\n",
        "y_pred_test = clf.predict(X_test)\n",
        "acc = accuracy_score(y_test, y_pred_test)\n",
        "cnfMatrix = confusion_matrix(y_test, y_pred_test)\n",
        "print('accuracy of this classifier is: ', acc)\n",
        "print('confusion Matrix of this classifier is: \\n', cnfMatrix)"
      ],
      "execution_count": null,
      "outputs": [
        {
          "output_type": "stream",
          "text": [
            "Shape of train samples : (7493, 16)\n",
            "Shape of train labels : (7493, 1)\n",
            "Shape of test samples : (3497, 16)\n",
            "Shape of test labels : (3497, 1)\n"
          ],
          "name": "stdout"
        },
        {
          "output_type": "stream",
          "text": [
            "/usr/local/lib/python3.7/dist-packages/sklearn/utils/validation.py:760: DataConversionWarning: A column-vector y was passed when a 1d array was expected. Please change the shape of y to (n_samples, ), for example using ravel().\n",
            "  y = column_or_1d(y, warn=True)\n"
          ],
          "name": "stderr"
        },
        {
          "output_type": "stream",
          "text": [
            "accuracy of this classifier is:  0.9450957963969117\n",
            "confusion Matrix of this classifier is: \n",
            " [[344   0   0   0   0   0   0   0  19   0]\n",
            " [  0 317  43   3   1   0   0   0   0   0]\n",
            " [  0  14 348   0   0   0   0   2   0   0]\n",
            " [  0   2   0 330   0   2   0   1   0   1]\n",
            " [  0   3   0   1 354   0   1   0   0   5]\n",
            " [  0   6   0  16   0 297   0   0   1  15]\n",
            " [  0   1   0   0   0   0 334   0   1   0]\n",
            " [  0  17   2   1   0   0   0 331   1  12]\n",
            " [  1   0   0   0   0   2   0   1 331   0]\n",
            " [  0   8   0   8   0   0   0   0   1 319]]\n"
          ],
          "name": "stdout"
        }
      ]
    },
    {
      "cell_type": "code",
      "metadata": {
        "colab": {
          "base_uri": "https://localhost:8080/"
        },
        "id": "lMd1qNP_6wBE",
        "outputId": "f2192c11-c510-4c05-e67e-593b8d26fc56"
      },
      "source": [
        "from sklearn.ensemble import AdaBoostClassifier\n",
        "from sklearn.tree import DecisionTreeClassifier\n",
        "\n",
        "df = pd.read_csv('data_train.csv')\n",
        "X_train = df.iloc[:,:16]\n",
        "y_train = df.iloc[:,16:]\n",
        "print('Shape of train samples :', X_train.shape)\n",
        "print('Shape of train labels :', y_train.shape)\n",
        "df = pd.read_csv('data_test.csv')\n",
        "X_test = df.iloc[:,:16]\n",
        "y_test = df.iloc[:,16:]\n",
        "print('Shape of test samples :', X_test.shape)\n",
        "print('Shape of test labels :', y_test.shape)\n",
        "\n",
        "clf = AdaBoostClassifier(DecisionTreeClassifier(max_depth=7),\n",
        "    n_estimators=5)\n",
        "clf.fit(X_train, y_train)\n",
        "y_pred_test = clf.predict(X_test)\n",
        "acc = accuracy_score(y_test, y_pred_test)\n",
        "cnfMatrix = confusion_matrix(y_test, y_pred_test)\n",
        "print('accuracy of this classifier is: ', acc)\n",
        "print('confusion Matrix of this classifier is: \\n', cnfMatrix)"
      ],
      "execution_count": null,
      "outputs": [
        {
          "output_type": "stream",
          "text": [
            "Shape of train samples : (7493, 16)\n",
            "Shape of train labels : (7493, 1)\n",
            "Shape of test samples : (3497, 16)\n",
            "Shape of test labels : (3497, 1)\n"
          ],
          "name": "stdout"
        },
        {
          "output_type": "stream",
          "text": [
            "/usr/local/lib/python3.7/dist-packages/sklearn/utils/validation.py:760: DataConversionWarning: A column-vector y was passed when a 1d array was expected. Please change the shape of y to (n_samples, ), for example using ravel().\n",
            "  y = column_or_1d(y, warn=True)\n"
          ],
          "name": "stderr"
        },
        {
          "output_type": "stream",
          "text": [
            "accuracy of this classifier is:  0.9279382327709466\n",
            "confusion Matrix of this classifier is: \n",
            " [[345   0   0   0   1   0   0   0  16   1]\n",
            " [  0 321  40   2   1   0   0   0   0   0]\n",
            " [  0  18 342   0   0   0   0   4   0   0]\n",
            " [  0   3   0 330   0   2   0   0   0   1]\n",
            " [  0   2   1   1 353   0   3   1   0   3]\n",
            " [  0  10   0  14   0 281   0   0   5  25]\n",
            " [  0   0   1   0   0   6 327   0   2   0]\n",
            " [  0  21   4   6  15   0   0 311   5   2]\n",
            " [  2   1   0   0   0   5   0   1 326   0]\n",
            " [  0  10   0  10   3   0   0   1   3 309]]\n"
          ],
          "name": "stdout"
        }
      ]
    },
    {
      "cell_type": "code",
      "metadata": {
        "colab": {
          "base_uri": "https://localhost:8080/"
        },
        "id": "ymoGsdNw6v_n",
        "outputId": "64c01f26-5085-4449-b497-0e3e57dfeb44"
      },
      "source": [
        "from sklearn.ensemble import AdaBoostClassifier\n",
        "from sklearn.tree import DecisionTreeClassifier\n",
        "\n",
        "df = pd.read_csv('data_train.csv')\n",
        "X_train = df.iloc[:,:16]\n",
        "y_train = df.iloc[:,16:]\n",
        "print('Shape of train samples :', X_train.shape)\n",
        "print('Shape of train labels :', y_train.shape)\n",
        "df = pd.read_csv('data_test.csv')\n",
        "X_test = df.iloc[:,:16]\n",
        "y_test = df.iloc[:,16:]\n",
        "print('Shape of test samples :', X_test.shape)\n",
        "print('Shape of test labels :', y_test.shape)\n",
        "\n",
        "clf = AdaBoostClassifier(DecisionTreeClassifier(max_depth=7),\n",
        "    n_estimators=20)\n",
        "clf.fit(X_train, y_train)\n",
        "y_pred_test = clf.predict(X_test)\n",
        "acc = accuracy_score(y_test, y_pred_test)\n",
        "cnfMatrix = confusion_matrix(y_test, y_pred_test)\n",
        "print('accuracy of this classifier is: ', acc)\n",
        "print('confusion Matrix of this classifier is: \\n', cnfMatrix)"
      ],
      "execution_count": null,
      "outputs": [
        {
          "output_type": "stream",
          "text": [
            "Shape of train samples : (7493, 16)\n",
            "Shape of train labels : (7493, 1)\n",
            "Shape of test samples : (3497, 16)\n",
            "Shape of test labels : (3497, 1)\n"
          ],
          "name": "stdout"
        },
        {
          "output_type": "stream",
          "text": [
            "/usr/local/lib/python3.7/dist-packages/sklearn/utils/validation.py:760: DataConversionWarning: A column-vector y was passed when a 1d array was expected. Please change the shape of y to (n_samples, ), for example using ravel().\n",
            "  y = column_or_1d(y, warn=True)\n"
          ],
          "name": "stderr"
        },
        {
          "output_type": "stream",
          "text": [
            "accuracy of this classifier is:  0.9613954818415785\n",
            "confusion Matrix of this classifier is: \n",
            " [[347   0   0   0   0   0   0   0  16   0]\n",
            " [  0 334  28   0   1   0   0   1   0   0]\n",
            " [  0   8 354   0   0   0   0   2   0   0]\n",
            " [  0   1   0 333   0   0   0   1   0   1]\n",
            " [  0   1   0   0 358   3   0   0   0   2]\n",
            " [  0   0   0   8   0 315   0   0   5   7]\n",
            " [  0   2   0   0   0   0 334   0   0   0]\n",
            " [  0  25   4   3   0   0   0 322   3   7]\n",
            " [  0   0   0   0   0   0   0   0 335   0]\n",
            " [  0   2   0   1   0   0   0   2   1 330]]\n"
          ],
          "name": "stdout"
        }
      ]
    },
    {
      "cell_type": "code",
      "metadata": {
        "colab": {
          "base_uri": "https://localhost:8080/"
        },
        "id": "O6KrvTPt6zqK",
        "outputId": "17fde9c6-3df6-4e44-b735-6874b1dd7f15"
      },
      "source": [
        "from sklearn.ensemble import AdaBoostClassifier\n",
        "from sklearn.tree import DecisionTreeClassifier\n",
        "\n",
        "df = pd.read_csv('data_train.csv')\n",
        "X_train = df.iloc[:,:16]\n",
        "y_train = df.iloc[:,16:]\n",
        "print('Shape of train samples :', X_train.shape)\n",
        "print('Shape of train labels :', y_train.shape)\n",
        "df = pd.read_csv('data_test.csv')\n",
        "X_test = df.iloc[:,:16]\n",
        "y_test = df.iloc[:,16:]\n",
        "print('Shape of test samples :', X_test.shape)\n",
        "print('Shape of test labels :', y_test.shape)\n",
        "\n",
        "clf = AdaBoostClassifier(DecisionTreeClassifier(max_depth=7),\n",
        "    n_estimators=50)\n",
        "clf.fit(X_train, y_train)\n",
        "y_pred_test = clf.predict(X_test)\n",
        "acc = accuracy_score(y_test, y_pred_test)\n",
        "cnfMatrix = confusion_matrix(y_test, y_pred_test)\n",
        "print('accuracy of this classifier is: ', acc)\n",
        "print('confusion Matrix of this classifier is: \\n', cnfMatrix)"
      ],
      "execution_count": null,
      "outputs": [
        {
          "output_type": "stream",
          "text": [
            "Shape of train samples : (7493, 16)\n",
            "Shape of train labels : (7493, 1)\n",
            "Shape of test samples : (3497, 16)\n",
            "Shape of test labels : (3497, 1)\n"
          ],
          "name": "stdout"
        },
        {
          "output_type": "stream",
          "text": [
            "/usr/local/lib/python3.7/dist-packages/sklearn/utils/validation.py:760: DataConversionWarning: A column-vector y was passed when a 1d array was expected. Please change the shape of y to (n_samples, ), for example using ravel().\n",
            "  y = column_or_1d(y, warn=True)\n"
          ],
          "name": "stderr"
        },
        {
          "output_type": "stream",
          "text": [
            "accuracy of this classifier is:  0.9659708321418359\n",
            "confusion Matrix of this classifier is: \n",
            " [[344   0   0   0   0   0   0   0  19   0]\n",
            " [  0 340  21   2   1   0   0   0   0   0]\n",
            " [  0   5 359   0   0   0   0   0   0   0]\n",
            " [  0   1   0 334   0   0   0   0   0   1]\n",
            " [  0   0   0   0 360   2   1   0   0   1]\n",
            " [  0   1   0   7   0 313   0   0   0  14]\n",
            " [  0   0   0   0   0   1 335   0   0   0]\n",
            " [  0  28   2   0   0   0   0 330   1   3]\n",
            " [  0   0   0   0   0   1   0   0 334   0]\n",
            " [  0   3   0   1   0   0   0   2   1 329]]\n"
          ],
          "name": "stdout"
        }
      ]
    },
    {
      "cell_type": "code",
      "metadata": {
        "colab": {
          "base_uri": "https://localhost:8080/"
        },
        "id": "1r_QIJfL7OYL",
        "outputId": "b72f30d2-6774-4ad5-ac24-361ed033429b"
      },
      "source": [
        "from sklearn.ensemble import GradientBoostingClassifier\n",
        "import xgboost as xgb\n",
        "import pandas as pd\n",
        "from sklearn.metrics import classification_report, confusion_matrix\n",
        "\n",
        "df = pd.read_csv('data_train.csv')\n",
        "df.columns = ['A','B','C','D','E','F','G','H','I','J','K','L','M','N','O','P','Q']\n",
        "X_train = df.iloc[:,:16]\n",
        "y_train = df.iloc[:,16:]\n",
        "print('Shape of train samples :', X_train.shape)\n",
        "print('Shape of train labels :', y_train.shape)\n",
        "df = pd.read_csv('data_test.csv')\n",
        "df.columns = ['A','B','C','D','E','F','G','H','I','J','K','L','M','N','O','P','Q']\n",
        "X_test = df.iloc[:,:16]\n",
        "y_test = df.iloc[:,16:]\n",
        "print('Shape of test samples :', X_test.shape)\n",
        "print('Shape of test labels :', y_test.shape)\n",
        "\n",
        "dtrain = xgb.DMatrix(data=X_train, label=y_train)\n",
        "dtest = xgb.DMatrix(data=X_test)\n",
        "\n",
        "\n",
        "params = {\n",
        "    'max_depth': 6,\n",
        "    'objective': 'multi:softmax',  # error evaluation for multiclass training\n",
        "    'num_class': 10\n",
        "}\n",
        "bst = xgb.train(params, dtrain)\n",
        "pred = bst.predict(dtest)\n",
        "\n",
        "print(classification_report(y_test, pred))\n",
        "cm = confusion_matrix(y_test, pred)\n",
        "print(cm)"
      ],
      "execution_count": null,
      "outputs": [
        {
          "output_type": "stream",
          "text": [
            "Shape of train samples : (7493, 16)\n",
            "Shape of train labels : (7493, 1)\n",
            "Shape of test samples : (3497, 16)\n",
            "Shape of test labels : (3497, 1)\n",
            "              precision    recall  f1-score   support\n",
            "\n",
            "           0       0.99      0.94      0.97       363\n",
            "           1       0.87      0.87      0.87       364\n",
            "           2       0.88      0.96      0.92       364\n",
            "           3       0.95      0.98      0.96       336\n",
            "           4       0.96      0.98      0.97       364\n",
            "           5       0.98      0.90      0.94       335\n",
            "           6       0.99      0.99      0.99       336\n",
            "           7       0.98      0.89      0.94       364\n",
            "           8       0.93      0.99      0.96       335\n",
            "           9       0.92      0.94      0.93       336\n",
            "\n",
            "    accuracy                           0.94      3497\n",
            "   macro avg       0.95      0.95      0.95      3497\n",
            "weighted avg       0.95      0.94      0.94      3497\n",
            "\n",
            "[[343   0   0   0   0   0   0   0  20   0]\n",
            " [  0 318  44   0   0   0   0   2   0   0]\n",
            " [  0  12 351   0   0   0   0   1   0   0]\n",
            " [  0   4   0 330   0   0   0   1   0   1]\n",
            " [  0   5   0   0 357   1   0   0   0   1]\n",
            " [  0   2   0   4   0 300   1   0   3  25]\n",
            " [  0   1   0   0   0   4 331   0   0   0]\n",
            " [  0  15   3   5  14   0   1 325   1   0]\n",
            " [  2   0   0   0   0   0   0   0 333   0]\n",
            " [  0   8   0   9   0   1   0   1   1 316]]\n"
          ],
          "name": "stdout"
        }
      ]
    }
  ]
}